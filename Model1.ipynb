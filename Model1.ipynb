{
 "metadata": {
  "name": "",
  "signature": "sha256:64a6c05d58c63fa727fb75c0d64222c7c9231c05540c0c24bf3bfc089a66c638"
 },
 "nbformat": 3,
 "nbformat_minor": 0,
 "worksheets": [
  {
   "cells": [
    {
     "cell_type": "heading",
     "level": 1,
     "metadata": {},
     "source": [
      "Model 1"
     ]
    },
    {
     "cell_type": "heading",
     "level": 2,
     "metadata": {},
     "source": [
      "Model specification"
     ]
    },
    {
     "cell_type": "markdown",
     "metadata": {},
     "source": [
      "Model 1 is similar to Model 0a, in that it learns about both presented cues from the feedback to choosing one of them. However, it also improves upon Model0 by looking at hierarchical effects of Age and Delay condition."
     ]
    },
    {
     "cell_type": "heading",
     "level": 2,
     "metadata": {},
     "source": [
      "Priors"
     ]
    },
    {
     "cell_type": "markdown",
     "metadata": {},
     "source": [
      "We model the priors as follows:\n",
      "$$\n",
      "\\alpha \\sim \\text{Be}(1, 1) \\\\\n",
      "\\beta \\sim \\mathcal{N}(0, 5)\n",
      "$$"
     ]
    },
    {
     "cell_type": "heading",
     "level": 2,
     "metadata": {},
     "source": [
      "Ready the data..."
     ]
    },
    {
     "cell_type": "code",
     "collapsed": false,
     "input": [
      "from __future__ import division\n",
      "import numpy as np\n",
      "import pandas as pd\n",
      "import pystan\n",
      "import matplotlib.pyplot as plt\n",
      "% matplotlib inline"
     ],
     "language": "python",
     "metadata": {},
     "outputs": [],
     "prompt_number": 1
    },
    {
     "cell_type": "code",
     "collapsed": false,
     "input": [
      "df = pd.read_csv(\"clean_data.csv\")"
     ],
     "language": "python",
     "metadata": {},
     "outputs": [],
     "prompt_number": 2
    },
    {
     "cell_type": "code",
     "collapsed": false,
     "input": [
      "df.head()"
     ],
     "language": "python",
     "metadata": {},
     "outputs": [
      {
       "html": [
        "<div style=\"max-height:1000px;max-width:1500px;overflow:auto;\">\n",
        "<table border=\"1\" class=\"dataframe\">\n",
        "  <thead>\n",
        "    <tr style=\"text-align: right;\">\n",
        "      <th></th>\n",
        "      <th>Unnamed: 0</th>\n",
        "      <th>SubjNum</th>\n",
        "      <th>AgeGroup</th>\n",
        "      <th>RunNum</th>\n",
        "      <th>DelayCond</th>\n",
        "      <th>Outcome</th>\n",
        "      <th>Chosen</th>\n",
        "      <th>Unchosen</th>\n",
        "      <th>Trial</th>\n",
        "    </tr>\n",
        "  </thead>\n",
        "  <tbody>\n",
        "    <tr>\n",
        "      <th>0</th>\n",
        "      <td> 0</td>\n",
        "      <td> 1</td>\n",
        "      <td> 1</td>\n",
        "      <td> 0</td>\n",
        "      <td> 1</td>\n",
        "      <td> 0</td>\n",
        "      <td> 3</td>\n",
        "      <td> 7</td>\n",
        "      <td> 1</td>\n",
        "    </tr>\n",
        "    <tr>\n",
        "      <th>1</th>\n",
        "      <td> 1</td>\n",
        "      <td> 1</td>\n",
        "      <td> 1</td>\n",
        "      <td> 0</td>\n",
        "      <td> 1</td>\n",
        "      <td> 1</td>\n",
        "      <td> 7</td>\n",
        "      <td> 3</td>\n",
        "      <td> 2</td>\n",
        "    </tr>\n",
        "    <tr>\n",
        "      <th>2</th>\n",
        "      <td> 2</td>\n",
        "      <td> 1</td>\n",
        "      <td> 1</td>\n",
        "      <td> 0</td>\n",
        "      <td> 0</td>\n",
        "      <td> 0</td>\n",
        "      <td> 6</td>\n",
        "      <td> 5</td>\n",
        "      <td> 3</td>\n",
        "    </tr>\n",
        "    <tr>\n",
        "      <th>3</th>\n",
        "      <td> 3</td>\n",
        "      <td> 1</td>\n",
        "      <td> 1</td>\n",
        "      <td> 0</td>\n",
        "      <td> 0</td>\n",
        "      <td> 0</td>\n",
        "      <td> 5</td>\n",
        "      <td> 6</td>\n",
        "      <td> 4</td>\n",
        "    </tr>\n",
        "    <tr>\n",
        "      <th>4</th>\n",
        "      <td> 4</td>\n",
        "      <td> 1</td>\n",
        "      <td> 1</td>\n",
        "      <td> 0</td>\n",
        "      <td> 1</td>\n",
        "      <td> 1</td>\n",
        "      <td> 7</td>\n",
        "      <td> 3</td>\n",
        "      <td> 5</td>\n",
        "    </tr>\n",
        "  </tbody>\n",
        "</table>\n",
        "</div>"
       ],
       "metadata": {},
       "output_type": "pyout",
       "prompt_number": 3,
       "text": [
        "   Unnamed: 0  SubjNum  AgeGroup  RunNum  DelayCond  Outcome  Chosen  \\\n",
        "0           0        1         1       0          1        0       3   \n",
        "1           1        1         1       0          1        1       7   \n",
        "2           2        1         1       0          0        0       6   \n",
        "3           3        1         1       0          0        0       5   \n",
        "4           4        1         1       0          1        1       7   \n",
        "\n",
        "   Unchosen  Trial  \n",
        "0         7      1  \n",
        "1         3      2  \n",
        "2         5      3  \n",
        "3         6      4  \n",
        "4         3      5  "
       ]
      }
     ],
     "prompt_number": 3
    },
    {
     "cell_type": "markdown",
     "metadata": {},
     "source": [
      "Stan requires a dictionary of data, so let's make one"
     ]
    },
    {
     "cell_type": "code",
     "collapsed": false,
     "input": [
      "ddict = {}\n",
      "ddict['N'] = df.shape[0]\n",
      "ddict['Nsub'] = len(df['SubjNum'].unique())\n",
      "ddict['Ncue'] = sum(~np.isnan(df['Chosen'].unique()))\n",
      "ddict['Ntrial'] = np.max(df['Trial'])\n",
      "ddict['Ngroup'] = len(df['AgeGroup'].unique())\n",
      "ddict['sub'] = df['SubjNum']\n",
      "ddict['chosen'] = df['Chosen'].fillna(0).astype('int')\n",
      "ddict['unchosen'] = df['Unchosen'].fillna(0).astype('int')\n",
      "ddict['trial'] = df['Trial']\n",
      "ddict['outcome'] = df['Outcome'].fillna(-1).astype('int')\n",
      "ddict['group'] = df[['AgeGroup', 'SubjNum']].drop_duplicates()['AgeGroup']"
     ],
     "language": "python",
     "metadata": {},
     "outputs": [],
     "prompt_number": 4
    },
    {
     "cell_type": "code",
     "collapsed": false,
     "input": [
      "np.random.seed(77752)"
     ],
     "language": "python",
     "metadata": {},
     "outputs": [],
     "prompt_number": 5
    },
    {
     "cell_type": "code",
     "collapsed": false,
     "input": [
      "sm = pystan.StanModel(file='model1.stan')"
     ],
     "language": "python",
     "metadata": {},
     "outputs": [],
     "prompt_number": 9
    },
    {
     "cell_type": "code",
     "collapsed": false,
     "input": [
      "def initfun():\n",
      "    return {'beta': np.zeros((ddict['Nsub'],)), \n",
      "            'alpha': np.random.rand(ddict['Nsub']),\n",
      "            'a': np.ones((ddict['Ngroup'],)),\n",
      "            'b': np.ones((ddict['Ngroup'],))}"
     ],
     "language": "python",
     "metadata": {},
     "outputs": [],
     "prompt_number": 10
    },
    {
     "cell_type": "code",
     "collapsed": false,
     "input": [
      "fit = sm.sampling(data=ddict, chains=2, init=initfun, iter=4000)"
     ],
     "language": "python",
     "metadata": {},
     "outputs": []
    },
    {
     "cell_type": "code",
     "collapsed": false,
     "input": [
      "samples = fit.extract()"
     ],
     "language": "python",
     "metadata": {},
     "outputs": []
    },
    {
     "cell_type": "code",
     "collapsed": false,
     "input": [
      "fit.plot('alpha');"
     ],
     "language": "python",
     "metadata": {},
     "outputs": []
    },
    {
     "cell_type": "code",
     "collapsed": false,
     "input": [
      "fit.plot('beta');"
     ],
     "language": "python",
     "metadata": {},
     "outputs": []
    },
    {
     "cell_type": "code",
     "collapsed": false,
     "input": [
      "fit.plot('a');"
     ],
     "language": "python",
     "metadata": {},
     "outputs": []
    },
    {
     "cell_type": "code",
     "collapsed": false,
     "input": [
      "fit.plot('b');"
     ],
     "language": "python",
     "metadata": {},
     "outputs": []
    },
    {
     "cell_type": "code",
     "collapsed": false,
     "input": [],
     "language": "python",
     "metadata": {},
     "outputs": []
    }
   ],
   "metadata": {}
  }
 ]
}